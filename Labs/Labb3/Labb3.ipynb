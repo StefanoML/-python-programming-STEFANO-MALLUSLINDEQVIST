{
 "cells": [
  {
   "cell_type": "markdown",
   "id": "9e6fc199",
   "metadata": {},
   "source": [
    "### First Part:\n",
    "\n",
    "I decided to save the lines as a **dictionary** a bit because I wanted to practice the use of dictionaries, \n",
    "and becauseI felt it would look more orderly and professional.\n",
    "\n",
    "Another decision was to use **pandas** to do this assignment. It was a good excuse to start learning it.\n",
    "\n"
   ]
  },
  {
   "cell_type": "code",
   "execution_count": 16,
   "id": "c08ac8ed",
   "metadata": {},
   "outputs": [],
   "source": [
    "import pandas as pd\n",
    "import matplotlib.pyplot as plt\n",
    "\n",
    "\n",
    "lines = [\n",
    "    {\"k\":-1 ,\"m\":0, \"color\":\"red\", \"label\":\"my_line\"},\n",
    "    {\"k\":-0.489, \"m\":0, \"color\": \"blue\", \"label\":\"f(x)\"},\n",
    "    {\"k\":-2, \"m\":0.16, \"color\":\"green\", \"label\":\"g(x)\"}, \n",
    "    {\"k\":800, \"m\":-120, \"color\":\"black\", \"label\":\"h(x)\"}\n",
    "    ]"
   ]
  },
  {
   "cell_type": "markdown",
   "id": "c52babbb",
   "metadata": {},
   "source": [
    "### Functions:"
   ]
  },
  {
   "cell_type": "markdown",
   "id": "7f9c4804",
   "metadata": {},
   "source": [
    "*Obs. This first function is from the first version of the script and I left it just for reference.*"
   ]
  },
  {
   "cell_type": "code",
   "execution_count": 18,
   "id": "b7cc50b2",
   "metadata": {},
   "outputs": [],
   "source": [
    "def classify(row,k,m):\n",
    "    \n",
    "    pointx = row[\"X\"]\n",
    "    pointy = row[\"Y\"]\n",
    "    line_y = k*pointx +m\n",
    "    if line_y >= pointy: \n",
    "        return 0\n",
    "    else: \n",
    "        return 1"
   ]
  },
  {
   "cell_type": "markdown",
   "id": "755a2778",
   "metadata": {},
   "source": [
    "This second function loops through the lines dictionary and prints them all in the graph. \n",
    "It is currently commented out in the main script but it should work fine"
   ]
  },
  {
   "cell_type": "code",
   "execution_count": 19,
   "id": "f331e296",
   "metadata": {},
   "outputs": [],
   "source": [
    "def plot(df):\n",
    "    x_min = (df[\"X\"].min())\n",
    "    x_max = (df[\"X\"].max())\n",
    "\n",
    "    df0 = df[df[\"Label\"]==0]\n",
    "    df1 = df[df[\"Label\"]==1]\n",
    "\n",
    "    for line in lines:\n",
    "        y_start = line[\"k\"]*x_min+line[\"m\"]\n",
    "        y_end = line[\"k\"]*x_max+line[\"m\"]\n",
    "        plt.plot([x_min,x_max],[y_start,y_end], c = line[\"color\"], label = line[\"label\"])\n",
    "\n",
    "    plt.scatter(df0[\"X\"],df0[\"Y\"],c = \"Orange\", label = \"Points Below the Line\")\n",
    "    plt.scatter(df1[\"X\"],df1[\"Y\"], c = \"DarkCyan\", label = \"Points Above the Line\")\n",
    "    plt.xlabel(\"X\")\n",
    "    plt.ylabel(\"Y\")\n",
    "    plt.grid(True)\n",
    "    plt.legend()\n",
    "    plt.ylim(-8,8)\n",
    "    plt.show()"
   ]
  },
  {
   "cell_type": "markdown",
   "id": "c4197df4",
   "metadata": {},
   "source": [
    "This function generates a separate graph for each line as a visual reinforcement for the data visualization at the end."
   ]
  },
  {
   "cell_type": "code",
   "execution_count": 21,
   "id": "2609e8c8",
   "metadata": {},
   "outputs": [],
   "source": [
    "def plot2(df,line,column):\n",
    "\n",
    "    plt.figure(figsize=(5,3))\n",
    "    x_min = (df[\"X\"].min())\n",
    "    x_max = (df[\"X\"].max())\n",
    "\n",
    "    df0 = df[df[column]==0]\n",
    "    df1 = df[df[column]==1]\n",
    "\n",
    "    y_start = line[\"k\"]*x_min+line[\"m\"]\n",
    "    y_end = line[\"k\"]*x_max+line[\"m\"]\n",
    "    plt.plot([x_min,x_max],[y_start,y_end], c = line[\"color\"], label = line[\"label\"])\n",
    "\n",
    "    plt.scatter(df0[\"X\"],df0[\"Y\"],c = \"Orange\", label = \"Points Below the Line\")\n",
    "    plt.scatter(df1[\"X\"],df1[\"Y\"], c = \"DarkCyan\", label = \"Points Above the Line\")\n",
    "    plt.xlabel(\"X\")\n",
    "    plt.ylabel(\"Y\")\n",
    "    plt.grid(True)\n",
    "    plt.legend()\n",
    "    plt.ylim(df[\"Y\"].min() -1, df[\"Y\"].max() +1)\n",
    "    plt.show()"
   ]
  },
  {
   "cell_type": "markdown",
   "id": "bf4bb353",
   "metadata": {},
   "source": [
    "### The Core script"
   ]
  },
  {
   "cell_type": "markdown",
   "id": "206bbe11",
   "metadata": {},
   "source": [
    "What happens here is quite straightforward: \n",
    "- we tell the script to open the file (trying to catch errors in case the file is not found)\n",
    "and save the infotmation as \"df\"\n",
    "- Then, .dropna(), a very useful function from pandas I learned from a Youtube video, helps us getting rid of wrong or empty entries.\n",
    "- We rename the columns to make it better for our purposes.\n",
    "- Then we classify the points based on each line we have in our dictionary:\n",
    "we create a new column called *Label_* + the name of the line and on that column add all the relative labels for each point. \n",
    "- We show a graph for each line and its statistics (how many points are 0 and how many are 1) with another pandas function called .value_counts().\n",
    "- LAstly, we create a new file in which we send the classified dataframe."
   ]
  },
  {
   "cell_type": "code",
   "execution_count": null,
   "id": "4b96347e",
   "metadata": {},
   "outputs": [],
   "source": [
    "def main():\n",
    "    try:\n",
    "        df = pd.read_csv(\"unlabelled_data.csv\", header = None)\n",
    "    except FileNotFoundError:\n",
    "        print(\"The file 'unlabelled_data.csv' could not be found in the script folder.\")\n",
    "\n",
    "    df = df.dropna()\n",
    "    df.rename(columns={0:\"X\",1:\"Y\"}, inplace=True)\n",
    "    \n",
    "    for line in lines:\n",
    "        k = line[\"k\"]\n",
    "        m = line [\"m\"]\n",
    "        column = f\"Label_{line['label']}\"\n",
    "\n",
    "        df[column] = df.apply(lambda row:1 if row[\"Y\"] > ( k * row[\"X\"] +m) else 0, axis=1)\n",
    "        \n",
    "        print(f\"\\nClassification for {line['label']}:\\n\")\n",
    "        print(df[column].value_counts())\n",
    "        plot2(df,line,column)\n",
    "\n",
    "    #plot(df)\n",
    "    df.to_csv(\"labelled_data.csv\", index=False)\n",
    "\n",
    "\n",
    "if __name__ == \"__main__\":\n",
    "    main()"
   ]
  },
  {
   "cell_type": "markdown",
   "id": "e7fa7f23",
   "metadata": {},
   "source": [
    "### Final Considerations:"
   ]
  },
  {
   "cell_type": "markdown",
   "id": "cf2a3217",
   "metadata": {},
   "source": [
    "### Svenska:"
   ]
  },
  {
   "cell_type": "markdown",
   "id": "4bdfb185",
   "metadata": {},
   "source": [
    "Vid en granskning av de data som returneras från skriptet framgår en sak tydligt, särskilt tack vare visualiseringen.\n",
    "\n",
    "Det ser ut som att alla fyra linjerna delar datan relativt jämnt i hälften. Linjen h(x) ger dock ett omvänt klassificeringsresultat för nästan alla punkter jämfört med de andra tre linjerna. (Jag antog först att det var något fel med färgerna i plotten, men genom att kontrollera labelled_data.csv-filen kunde jag se att den returnerade motsatt etikett, eller åtminstone för de punkter jag kunde kontrollera, jämfört med de andra tre linjerna).\n",
    "\n",
    "Medan de andra linjerna verkar följa inriktningen på gapet mellan klustren, har linjen h(x) en extremt stor lutning (vilket gjorde att scatterplotten behövde begränsas i storlek) och ser ut att löpa nästan parallellt med y-axeln. Den delar punkterna i positiva och negativa x-värden, medan de andra linjerna verkar vara mer nyanserade.\n",
    "\n",
    "Angående frågan om det finns ett bästa val av linje, skulle jag, av de analyserade linjerna, säga alla utom h(x).\n",
    "\n",
    "För att besvara hur många sådana linjer som kan finnas, skulle jag tro att så länge de passerar genom gapet mellan klustren och följer rätt orientering, kan de betraktas som giltiga val.\n",
    "\n",
    "Eftersom jag inte vet vad punkterna representerar är det svårt att säga, men för maskininlärning och prediktion borde man vilja följa synliga mönster. Detta gäller tills jag har lärt mig hur det verkligen fungerar."
   ]
  },
  {
   "cell_type": "markdown",
   "id": "259845bd",
   "metadata": {},
   "source": [
    "### English:"
   ]
  },
  {
   "cell_type": "markdown",
   "id": "40bdc9ff",
   "metadata": {},
   "source": [
    "Looking at the data returned from the script one thing is pretty obvious, especially thanks to the visualization:\n",
    "While it looks like all 4 lines split the data quite evenly in half, the line h(x) gives an inverted result for almost all points ( I thought there was something wrong with the colors in the beginning, but then checking the labelled_data.csv file I could see it returned the opposite of each label, or at least those I could check, compared to the other 3 lines). \n",
    "Also while the other lines seem to follow the alignment of the gap between the clusters of points, the h(x) line, which also has an enormous slope (which made it so that the scatter plot needed to be limited in size), seems to run almost parallel to the y axis, splitting the points in x positive and x negative, while the other lines seem to be a bit more nuanced.\n",
    "\n",
    "So, to the question whether there is a best choice for a line, I would say, of those analyzed, all excepth h(x),\n",
    "And to answer how many lines can there be, I would think as long as they pass in the gap between the clusters, following the right orientation, they could be considered valid choices.\n",
    "Then again, not knowing what the points represent it's hard to say, but one would think for machine learning and prediction, one would like to follow visible patterns. That until I really learn how it really works. "
   ]
  }
 ],
 "metadata": {
  "kernelspec": {
   "display_name": "Python 3",
   "language": "python",
   "name": "python3"
  },
  "language_info": {
   "codemirror_mode": {
    "name": "ipython",
    "version": 3
   },
   "file_extension": ".py",
   "mimetype": "text/x-python",
   "name": "python",
   "nbconvert_exporter": "python",
   "pygments_lexer": "ipython3",
   "version": "3.13.7"
  }
 },
 "nbformat": 4,
 "nbformat_minor": 5
}
