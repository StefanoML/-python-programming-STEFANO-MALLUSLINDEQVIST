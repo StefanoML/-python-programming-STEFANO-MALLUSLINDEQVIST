{
 "cells": [
  {
   "cell_type": "markdown",
   "metadata": {},
   "source": [
    "\n",
    "<a href=\"https://colab.research.google.com/github/pr0fez/AI24-Programmering/blob/master/Exercises/01-if-statement-exercise.ipynb\" target=\"_parent\"><img align=\"left\" src=\"https://colab.research.google.com/assets/colab-badge.svg\" alt=\"Open In Colab\"/></a> &nbsp; to see hints and answers."
   ]
  },
  {
   "cell_type": "markdown",
   "metadata": {},
   "source": [
    "# if statements exercises\n",
    "\n",
    "---\n",
    "These are introductory exercises in Python with focus in **if** statement.\n",
    "\n",
    "<p class = \"alert alert-info\" role=\"alert\"><b>Remember</b> to use <b>descriptive variable names</b> in order to get readable code </p>\n",
    "\n",
    "<p class = \"alert alert-info\" role=\"alert\"><b>Remember</b> to format your answers in a neat way using <b>f-strings</b>\n",
    "\n",
    "<p class = \"alert alert-info\" role=\"alert\"><b>Remember</b> to format your input questions in a pedagogical way to guide the user\n",
    "\n",
    "The number of stars (\\*), (\\*\\*), (\\*\\*\\*) denotes the difficulty level of the task\n",
    "\n",
    "---"
   ]
  },
  {
   "cell_type": "markdown",
   "metadata": {},
   "source": [
    "## 1. Check sign (*)\n",
    "\n",
    "Ask the user to input a number and check if this number is **positive**, **negative** or **zero** and print it."
   ]
  },
  {
   "cell_type": "markdown",
   "metadata": {},
   "source": [
    "Solution"
   ]
  },
  {
   "cell_type": "code",
   "execution_count": null,
   "metadata": {},
   "outputs": [
    {
     "name": "stdout",
     "output_type": "stream",
     "text": [
      "That was not a valid number, please try again\n"
     ]
    }
   ],
   "source": [
    "try:\n",
    "    number = int(input (\"Please input a number\"))\n",
    "    if(number == 0):#We first check if the number is 0\n",
    "        print (f\"The number is 0\")\n",
    "    elif(number > 0):#If not 0, we check whether the number is larger\n",
    "        print (f\"The number {number} is positive.\")\n",
    "    else: #if not equal or larger than 0, the number is negative\n",
    "        print(f\"The number {number} is negative.\")\n",
    "except ValueError:\n",
    "    print (\"That was not a valid number, please try again\")\n"
   ]
  },
  {
   "cell_type": "markdown",
   "metadata": {},
   "source": [
    "---\n",
    "## 2. Smallest (*)\n",
    "Ask the user to input two numbers and check which one is the smallest and print it out.   "
   ]
  },
  {
   "cell_type": "markdown",
   "metadata": {},
   "source": [
    "Solution"
   ]
  },
  {
   "cell_type": "code",
   "execution_count": null,
   "metadata": {},
   "outputs": [
    {
     "name": "stdout",
     "output_type": "stream",
     "text": [
      "The numbers are the same\n"
     ]
    }
   ],
   "source": [
    "try:\n",
    "    a = int(input (\"Please enter the first number\"))\n",
    "    b = int(input (\"Please enter the second number\"))\n",
    "    solution = (a-b) # To find the smallest number we subtract the entries\n",
    "    if solution == 0: #If the result of the subtraction is 0, the numbers are the same\n",
    "        print (\"The numbers are the same\")\n",
    "    elif solution > 0: #if it's larger than 0, a is larger than b, and the other way around\n",
    "        print (f\"number {b} is smaller than {a}.\")\n",
    "    else: print (f\"Number {a} is smaller than {b}.\")\n",
    "except ValueError:\n",
    "    print (\"Please enter valid numbers\")"
   ]
  },
  {
   "cell_type": "markdown",
   "metadata": {},
   "source": [
    "---\n",
    "## 3. Right angle (*)\n",
    "\n",
    "Ask the user to input three angles and check if the triangle has a right angle. Your code should make sure that all three angles are valid and make up a triangle.\n",
    "\n",
    "<img align=\"left\" src=\"../assets/triangle_angles.png\" width=\"200\"/>"
   ]
  },
  {
   "cell_type": "markdown",
   "metadata": {},
   "source": [
    "Solution"
   ]
  },
  {
   "cell_type": "code",
   "execution_count": 12,
   "metadata": {},
   "outputs": [
    {
     "name": "stdout",
     "output_type": "stream",
     "text": [
      "The angles given do not make a triangle.\n"
     ]
    }
   ],
   "source": [
    "try:\n",
    "    a = int(input(\"Please input the value of the first angle (>0 and <180 degrees)\"))\n",
    "    b = int(input(\"Please input the value of the second angle (>0 and <180 degrees)\"))\n",
    "    c = int(input(\"Please input the value of the third angle (>0 and <180 degrees)\"))\n",
    "\n",
    "    if a+b+c == 180:\n",
    "        print(\"This is a triangle!\")\n",
    "        if a == 90: print(\"The angle 'a' is a right angle\")\n",
    "        elif b == 90: print(\"The angle 'b' is a right angle\")\n",
    "        elif c == 90: print(\"The angle 'c' is a right angle\")\n",
    "    else: print (\"The angles given do not make a triangle.\")\n",
    "except ValueError:\n",
    "    print(\"Please input valid angles\")\n"
   ]
  },
  {
   "cell_type": "markdown",
   "metadata": {},
   "source": [
    "----\n",
    "## 4. Medicine (*)\n",
    "\n",
    "The information in the following table is stated in a medicine package. Also it is stated that for children weight is more important than age.\n",
    "\n",
    "<table align=\"left\">\n",
    "<thead>\n",
    "    <tr>\n",
    "        <th></th>\n",
    "        <th>Age</th>\n",
    "        <th>Number of pills</th>\n",
    "    </tr>\n",
    "</thead>\n",
    "\n",
    "<tbody>\n",
    "  <tr>\n",
    "    <td>Adults & adolescent <br>over 40 kg</td>\n",
    "    <td>over 12 years</td>\n",
    "    <td>1-2</td>\n",
    "  </tr>\n",
    "\n",
    "  <tr>\n",
    "    <td>Children 26-40 kg</td>\n",
    "    <td>7-12 years</td>\n",
    "    <td>1/2-1</td>\n",
    "  </tr>\n",
    "\n",
    "  <tr>\n",
    "    <td>Children 15-25 kg</td>\n",
    "    <td>3-7 years</td>\n",
    "    <td>1/2</td>\n",
    "  </tr>\n",
    "</tbody>\n",
    "</table>"
   ]
  },
  {
   "cell_type": "markdown",
   "metadata": {},
   "source": [
    "Let the user input an **age** and a **weight**, the program should recommend the number of pills for the user."
   ]
  },
  {
   "cell_type": "code",
   "execution_count": null,
   "metadata": {},
   "outputs": [
    {
     "name": "stdout",
     "output_type": "stream",
     "text": [
      "Take 1/2 - 1 pills a day\n"
     ]
    }
   ],
   "source": [
    "try:\n",
    "    age = int(input(\"Please type the patient's age.\"))\n",
    "    weight = int(input(\"Please type the patient's weight in kg.\"))\n",
    "    if age > 12 or weight > 40:\n",
    "        print (\"Take 1-2 pills a day\")\n",
    "    elif 25 < weight < 40 or 25 < weight < 40 and 7 < age < 13:\n",
    "        print (\"Take 1/2 - 1 pills a day\")\n",
    "    elif 3 < age < 7 and 15 < weight < 26:\n",
    "        print (\"Take 1/2 pill a day\")\n",
    "    else: print (\"The patient is not fit for this treatment, please consult your doctor!\")\n",
    "except: ValueError"
   ]
  },
  {
   "cell_type": "markdown",
   "metadata": {},
   "source": [
    "---\n",
    "## 5. Divisible (*)\n",
    "Let the user input a number. Check if the number is\n",
    "<ol type=\"a\">\n",
    "  <li>even or odd</li>\n",
    "  <li>is divisible by 5</li>\n",
    "  <li>is divisble by 5 and odd</li>\n",
    "</ol> "
   ]
  },
  {
   "cell_type": "code",
   "execution_count": null,
   "metadata": {},
   "outputs": [],
   "source": [
    "num = int(input(\"Please input a number\"))\n",
    "if num %2 == 0:\n",
    "    if num %5 ==0:\n",
    "        print (f\"Number {num} is even and divisible by 5.\")\n",
    "    else: print (f\"Number {num} is even but not divisible by 5.\")\n",
    "elif num %5 == 0:\n",
    "    print (f\"Number {num} is odd and divisible by 5.\")\n",
    "else: print (f\"Number {num} is odd and not divisible by 5.\")"
   ]
  },
  {
   "cell_type": "markdown",
   "metadata": {},
   "source": [
    "---\n",
    "## 6. Luggage size (*)\n",
    "\n",
    "The maximum allowed luggage size for boarding an airplane is: \n",
    "- weight: 8kg\n",
    "- dimensions: 55x40x23cm (length x width x height) \n",
    "\n",
    "Let the user input weight, length, width and height of the luggage. The program should check if the luggage is allowed or not."
   ]
  },
  {
   "cell_type": "markdown",
   "metadata": {},
   "source": [
    "---\n",
    "\n",
    "pr0fez Giang\n",
    "\n",
    "[LinkedIn][linkedIn_pr0fez]\n",
    "\n",
    "[GitHub portfolio][github_portfolio]\n",
    "\n",
    "[linkedIn_pr0fez]: https://www.linkedin.com/in/pr0fezgiang/\n",
    "[github_portfolio]: https://github.com/pr0fez/Portfolio-pr0fez-Giang\n",
    "\n",
    "---"
   ]
  }
 ],
 "metadata": {
  "kernelspec": {
   "display_name": "Python 3",
   "language": "python",
   "name": "python3"
  },
  "language_info": {
   "codemirror_mode": {
    "name": "ipython",
    "version": 3
   },
   "file_extension": ".py",
   "mimetype": "text/x-python",
   "name": "python",
   "nbconvert_exporter": "python",
   "pygments_lexer": "ipython3",
   "version": "3.13.0"
  },
  "orig_nbformat": 4
 },
 "nbformat": 4,
 "nbformat_minor": 2
}
