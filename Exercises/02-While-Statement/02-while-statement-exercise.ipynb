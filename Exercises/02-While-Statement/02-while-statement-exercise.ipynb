{
 "cells": [
  {
   "cell_type": "markdown",
   "metadata": {},
   "source": [
    "<a href=\"https://colab.research.google.com/github/pr0fez/AI24-Programmering/blob/master/Exercises/02-while-statement-exercise.ipynb\" target=\"_parent\"><img align=\"left\" src=\"https://colab.research.google.com/assets/colab-badge.svg\" alt=\"Open In Colab\"/></a> &nbsp; to see hints and answers."
   ]
  },
  {
   "cell_type": "markdown",
   "metadata": {},
   "source": [
    "# while statement exercises\n",
    "\n",
    "---\n",
    "These are introductory exercises in Python with focus in **while** statement.\n",
    "\n",
    "<p class = \"alert alert-info\" role=\"alert\"><b>Remember</b> to use <b>descriptive variable names</b> in order to get readable code </p>\n",
    "\n",
    "<p class = \"alert alert-info\" role=\"alert\"><b>Remember</b> to format your answers in a neat way using <b>f-strings</b>\n",
    "\n",
    "<p class = \"alert alert-info\" role=\"alert\"><b>Remember</b> to format your input questions in a pedagogical way to guide the user\n",
    "\n",
    "The number of stars (\\*), (\\*\\*), (\\*\\*\\*) denotes the difficulty level of the task\n",
    "\n",
    "---"
   ]
  },
  {
   "cell_type": "markdown",
   "metadata": {},
   "source": [
    "## 1. Count numbers (*)\n",
    "\n",
    "Use a **while** statement to count from -10 to 10 with one increment. \n",
    "\n",
    "<details>\n",
    "\n",
    "<summary>Hint </summary>\n",
    "\n",
    "```python\n",
    "\n",
    "i += 1 # adds one and assigns it to i, equivalent to i = i + 1\n",
    "```\n",
    "\n",
    "</details>\n",
    "<br>\n",
    "<details>\n",
    "\n",
    "<summary>Answer </summary>\n",
    "\n",
    "```\n",
    "\n",
    "-10 -9 -8 -7 -6 -5 -4 -3 -2 -1 0 1 2 3 4 5 6 7 8 9 10\n",
    "```\n",
    "\n",
    "</details>\n"
   ]
  },
  {
   "cell_type": "code",
   "execution_count": null,
   "metadata": {},
   "outputs": [
    {
     "name": "stdout",
     "output_type": "stream",
     "text": [
      "-10 -9 -8 -7 -6 -5 -4 -3 -2 -1 0 1 2 3 4 5 6 7 8 9 10 "
     ]
    }
   ],
   "source": [
    "num = -10\n",
    "\n",
    "while num <= 10:\n",
    "    print (num, end=\" \")\n",
    "    num += 1\n"
   ]
  },
  {
   "cell_type": "markdown",
   "metadata": {},
   "source": [
    "--- \n",
    "## 2. Arithmetic sum (*)\n",
    "Use a **while** statement to compute the following sums: \n",
    "\n",
    "&nbsp; a) &nbsp; $\\text{sum} = 1 + 2 + \\ldots + 99+ 100$\n",
    "\n",
    "&nbsp; b) &nbsp; $\\text{sum} = 1 + 3 + 5 + \\ldots + 97 + 99$\n",
    "\n",
    "<details>\n",
    "\n",
    "<summary>Answer </summary>\n",
    "\n",
    "```\n",
    "a) 1 + 2 + ... + 99 + 100 = 5050 \n",
    "\n",
    "b) 1 + 3 + 5 +...+ 97 + 99 = 2500\n",
    "```\n",
    "\n",
    "</details>"
   ]
  },
  {
   "cell_type": "markdown",
   "metadata": {},
   "source": [
    "### Solution 2a"
   ]
  },
  {
   "cell_type": "code",
   "execution_count": null,
   "metadata": {},
   "outputs": [
    {
     "name": "stdout",
     "output_type": "stream",
     "text": [
      "1 + 2 + 3 + 4 + 5 + 6 + 7 + 8 + 9 + 10 + 11 + 12 + 13 + 14 + 15 + 16 + 17 + 18 + 19 + 20 + 21 + 22 + 23 + 24 + 25 + 26 + 27 + 28 + 29 + 30 + 31 + 32 + 33 + 34 + 35 + 36 + 37 + 38 + 39 + 40 + 41 + 42 + 43 + 44 + 45 + 46 + 47 + 48 + 49 + 50 + 51 + 52 + 53 + 54 + 55 + 56 + 57 + 58 + 59 + 60 + 61 + 62 + 63 + 64 + 65 + 66 + 67 + 68 + 69 + 70 + 71 + 72 + 73 + 74 + 75 + 76 + 77 + 78 + 79 + 80 + 81 + 82 + 83 + 84 + 85 + 86 + 87 + 88 + 89 + 90 + 91 + 92 + 93 + 94 + 95 + 96 + 97 + 98 + 99 + 100 = 5050\n"
     ]
    }
   ],
   "source": [
    "num = 1\n",
    "sum = 0\n",
    "\n",
    "while num <= 100:\n",
    "    if num < 100:\n",
    "        print (num, end=\" + \")\n",
    "    else:\n",
    "        print (num, end = \" = \")\n",
    "    sum = sum + num\n",
    "    num += 1\n",
    "print (sum)\n"
   ]
  },
  {
   "cell_type": "markdown",
   "metadata": {},
   "source": [
    "### Solution 2b"
   ]
  },
  {
   "cell_type": "code",
   "execution_count": null,
   "metadata": {},
   "outputs": [
    {
     "name": "stdout",
     "output_type": "stream",
     "text": [
      "1 + 3 + 5 + 7 + 9 + 11 + 13 + 15 + 17 + 19 + 21 + 23 + 25 + 27 + 29 + 31 + 33 + 35 + 37 + 39 + 41 + 43 + 45 + 47 + 49 + 51 + 53 + 55 + 57 + 59 + 61 + 63 + 65 + 67 + 69 + 71 + 73 + 75 + 77 + 79 + 81 + 83 + 85 + 87 + 89 + 91 + 93 + 95 + 97 + 99 = 2500\n"
     ]
    }
   ],
   "source": [
    "num = 1\n",
    "sum = 0\n",
    "\n",
    "while num <= 99:\n",
    "    if num < 99:\n",
    "        print (num, end=\" + \")\n",
    "    else:\n",
    "        print (num, end = \" = \")\n",
    "    sum = sum + num\n",
    "    num += 2\n",
    "print (sum)\n"
   ]
  },
  {
   "cell_type": "markdown",
   "metadata": {},
   "source": [
    "--- \n",
    "## 3. Guess number game (*)\n",
    "&nbsp; a) &nbsp; Create a guessing number game following this flow chart: \n",
    "\n",
    "<img align=\"left\" src=\"../assets/guessing_game.png\" width=\"300\"/>"
   ]
  },
  {
   "cell_type": "markdown",
   "metadata": {},
   "source": [
    "&nbsp; b) &nbsp; Make an algorithm to automatically guess the correct number. Can you optimize to get as few guesses as possible? (**)\n",
    "\n",
    "<details>\n",
    "\n",
    "<summary>Hint </summary>\n",
    "\n",
    "&nbsp; b) &nbsp; Half your testing number each time \n",
    "\n",
    "</details>"
   ]
  },
  {
   "cell_type": "markdown",
   "metadata": {},
   "source": [
    "### Version 1 (The computer guesses your number)"
   ]
  },
  {
   "cell_type": "code",
   "execution_count": null,
   "metadata": {},
   "outputs": [
    {
     "name": "stdout",
     "output_type": "stream",
     "text": [
      "Invalid input, please try again!\n",
      "Yay! I guessed your number 81 in 14 attempts!\n"
     ]
    }
   ],
   "source": [
    "try:    \n",
    "    input(\"Please think of a number from 1 to 100!\")\n",
    "\n",
    "    low = 1\n",
    "    high = 100\n",
    "    \n",
    "    tries = 1\n",
    "    \n",
    "    input(\"I'll try to guess your number, press '+' if your number is higher or '-' if lower!\")\n",
    "    input(\"Press '.' when the number is correct!\")\n",
    "\n",
    "    while True:\n",
    "\n",
    "        guess = (low + high) //2\n",
    "\n",
    "        answer = input (f\"Is your number {guess} ?\")\n",
    "        if answer == \"+\":\n",
    "            low = guess + 1\n",
    "            tries += 1\n",
    "        elif answer == \"-\":\n",
    "            high = guess -1\n",
    "            tries +=1\n",
    "        elif answer == \".\":\n",
    "            print (f\"Yay! I guessed your number {guess} in {tries} attempts!\")\n",
    "            break\n",
    "        \n",
    "        else: print(\"Invalid input, please try again!\")\n",
    "\n",
    "        \n",
    "\n",
    "except ValueError:\n",
    "    print (\"Please insert a valid number\")"
   ]
  },
  {
   "cell_type": "markdown",
   "metadata": {},
   "source": [
    "### Version 2 (you guess the computer's number)."
   ]
  },
  {
   "cell_type": "code",
   "execution_count": null,
   "metadata": {},
   "outputs": [],
   "source": [
    "from random import randint\n",
    "num = randint(1,100)\n",
    "tries:0\n",
    "\n",
    "try:\n",
    "    while True:\n",
    "        guess = int(input(\"Try to guess the number between 1 and 100\"))\n",
    "        if guess == 000: break\n",
    "        if 0 > guess > 100:\n",
    "            if guess == num:\n",
    "                tries +=1\n",
    "                print (\"Congrats you guessed {num} correctly in {tries} attempts!\")\n",
    "                break\n",
    "            elif guess < num:\n",
    "                print (\"My number is higher than that!\")\n",
    "            elif guess > num:\n",
    "                print (\"My number is smaller than that!\")\n",
    "        else: print (\"Seems like your number is not within the range! Try again!\")\n",
    "\n",
    "except ValueError:\n",
    "    print(\"Please insert a valid number between 1 and 100\")"
   ]
  },
  {
   "cell_type": "markdown",
   "metadata": {},
   "source": [
    "--- \n",
    "## 4. Multiplication game (*)\n",
    "&nbsp; a) &nbsp; Create a multiplication game following this flow chart: \n"
   ]
  },
  {
   "cell_type": "markdown",
   "metadata": {},
   "source": [
    "&nbsp; b) &nbsp; Add a menu for choosing difficulty level of the game\n",
    "\n",
    "&nbsp; c) &nbsp; Feel free to extend this program with features of your choice."
   ]
  },
  {
   "cell_type": "markdown",
   "metadata": {},
   "source": [
    "### Solution:\n",
    "\n",
    "The game has:\n",
    "- **Base** multiplication game;\n",
    "- **Difficulty Level** and Mode selection menu;\n",
    "- **Survival Mode** - The game goes on until the player makes a mistake;\n",
    "- **Time Battle Mode** - Like survival but the time is also counted."
   ]
  },
  {
   "cell_type": "code",
   "execution_count": null,
   "metadata": {},
   "outputs": [],
   "source": [
    "import random as rnd \n",
    "import time\n",
    "\n",
    "\n",
    "while True:\n",
    "\n",
    "  mode = input(\"Choose the game mode: \\n 1: Normal\\n 2: Hard\\n 3: Survival \\n 4: Time Battle \\n 0:Exit\")\n",
    "  \n",
    "  if mode == \"1\":\n",
    "      input(\"Easy mode will start. Press Enter When Ready!\")\n",
    "      rounds=0\n",
    "      correct=0\n",
    "\n",
    "         \n",
    "      while rounds < 10:\n",
    "        num1=rnd.randint(1,10)\n",
    "        num2=rnd.randint(1,10)\n",
    "        try:\n",
    "          answer = int(input(f\"{num1} * {num2} =\"))\n",
    "        except ValueError: \n",
    "          print(\"Enter a valid number\")\n",
    "          continue\n",
    "        if answer == (num1 * num2):\n",
    "            print(\"Correct!\")\n",
    "            correct +=1\n",
    "        else: print (f\"Wrong! the right answer is {num1*num2}!\")\n",
    "        rounds += 1\n",
    "      input(f\"Your Score is {correct}!\")\n",
    "      correct = 0\n",
    "      \n",
    "\n",
    "  elif mode == \"2\":\n",
    "     input(\"Hard mode will start. Press Enter When Ready!\")\n",
    "     rounds = 0\n",
    "     correct = 0\n",
    "\n",
    "\n",
    "\n",
    "     while rounds < 10:\n",
    "        num1=rnd.randint(1,100)\n",
    "        num2=rnd.randint(1,100)\n",
    "        try:\n",
    "          answer = int(input(f\"{num1} * {num2} =\"))\n",
    "        except ValueError: \n",
    "           print(\"Enter a valid number\")\n",
    "           continue\n",
    "        if answer == (num1 * num2):\n",
    "            print(\"Correct!\")\n",
    "            correct +=1\n",
    "        else: print (f\"Wrong! the right answer is {num1*num2}!\")\n",
    "        rounds += 1\n",
    "     input(f\"Your Score is {correct}!\")\n",
    "    \n",
    "\n",
    "\n",
    "  elif mode == \"3\":\n",
    "     input(\"Survival mode will now start. The game will continue until you give a wrong answer. Press Enter When Ready!\")\n",
    "     rounds = 0\n",
    "     correct = 0\n",
    "     errors = False\n",
    "     \n",
    "         \n",
    "     while not errors:\n",
    "         num1=rnd.randint(1,100)\n",
    "         num2=rnd.randint(1,100)\n",
    "         try:\n",
    "          answer = int(input(f\"{num1} * {num2} =\"))\n",
    "         except ValueError: \n",
    "            print(\"Enter a valid number\")\n",
    "            continue\n",
    "         if answer == (num1 * num2):\n",
    "             print(\"Correct!\")\n",
    "             correct +=1\n",
    "         else:\n",
    "            print (f\"Wrong! the right answer is {num1*num2}!\")\n",
    "            errors = True\n",
    "         rounds += 1\n",
    "         \n",
    "     input(f\"Your Score is {correct}!\")\n",
    "         \n",
    "\n",
    "\n",
    "  elif mode == \"4\":\n",
    "     input(\"Time Battle mode will start. Answer in the shortest time possible! Press Enter When Ready!\")\n",
    "     correct = 0\n",
    "     errors = False\n",
    "     start = time.time()\n",
    "         \n",
    "     while not errors:\n",
    "         num1=rnd.randint(1,100)\n",
    "         num2=rnd.randint(1,100)\n",
    "         \n",
    "         try:\n",
    "          answer = int(input(f\"{num1} * {num2} =\"))\n",
    "         except ValueError: \n",
    "            print(\"Enter a valid number\")\n",
    "            continue\n",
    "         if answer == (num1 * num2):\n",
    "             print(\"Correct!\")\n",
    "             correct +=1\n",
    "         else:\n",
    "            print (f\"Wrong! the right answer is {num1*num2}!\")\n",
    "            errors = True\n",
    "     end = time.time()\n",
    "     elapsed = end - start\n",
    "     score = (correct/elapsed)*100\n",
    "     print(f\"You answered {correct} times correctly in {elapsed:.2f} seconds!\")\n",
    "     input (f\"Your final score is {score:.0f}! Press Enter to exit to the main menu.\")\n",
    "\n",
    "  elif mode == \"0\":\n",
    "    break"
   ]
  },
  {
   "cell_type": "markdown",
   "metadata": {},
   "source": [
    "--- \n",
    "## 5. Check convergence (**)\n",
    "Use a while statement to compute the following sums: \n",
    "\n",
    "&nbsp; a) &nbsp; $\\text{sum} = 1 + \\frac{1}{2} + \\frac{1}{4} + \\frac{1}{8} + \\dots + \\frac{1}{2^n}$\n",
    "\n",
    "&nbsp; b) &nbsp; $\\text{sum} = 1 - \\frac{1}{3} + \\frac{1}{5} - \\frac{1}{7} + \\dots + \\frac{(-1)^n}{2n+1}$\n",
    "\n",
    "Try different values on $n$ to see which value it converges to.\n",
    "\n",
    "<details>\n",
    "\n",
    "<summary>Answer </summary>\n",
    "\n",
    "&nbsp; a) &nbsp; $1 + \\frac{1}{2} + \\frac{1}{4} + \\frac{1}{8} + \\dots + \\frac{1}{2^n} \\xrightarrow[n\\rightarrow \\infty]{} 2$ \n",
    "\n",
    "&nbsp; b) &nbsp; $ 1 - \\frac{1}{3} + \\frac{1}{5} - \\frac{1}{7} + \\dots + \\frac{(-1)^n}{2n+1} \\xrightarrow[n\\rightarrow \\infty]{} \\frac{\\pi}{4}$\n",
    "\n",
    "</details>"
   ]
  },
  {
   "cell_type": "markdown",
   "metadata": {},
   "source": [
    "### Solution a"
   ]
  },
  {
   "cell_type": "code",
   "execution_count": 15,
   "metadata": {},
   "outputs": [
    {
     "name": "stdout",
     "output_type": "stream",
     "text": [
      "the partial sum 33 is 1.9999999997671694\n"
     ]
    }
   ],
   "source": [
    "tot = 0 # Total sum ( I avoided using sum because it's an existing function)\n",
    "n = 0 # Number of loops\n",
    "num = 1 # Starting value\n",
    "try:\n",
    "    maxn = int(input(\"Enter 'n' value\"))\n",
    "except ValueError:\n",
    "    print (\"Please enter a valid number\")\n",
    "\n",
    "while n<maxn:\n",
    "    tot = tot+num\n",
    "    num = num/2\n",
    "    n+= 1\n",
    "print (f\"the partial sum {n} is {tot}\")"
   ]
  },
  {
   "cell_type": "markdown",
   "metadata": {},
   "source": [
    "### Solution b"
   ]
  },
  {
   "cell_type": "code",
   "execution_count": 19,
   "metadata": {},
   "outputs": [
    {
     "name": "stdout",
     "output_type": "stream",
     "text": [
      "The partial sum 100 is 0.7828982258896384.\n"
     ]
    }
   ],
   "source": [
    "tot = 0\n",
    "n = 0\n",
    "try:\n",
    "    maxn = int(input(\"Enter 'n' value\"))\n",
    "except ValueError:\n",
    "    print (\"Please enter a valid number\")\n",
    "\n",
    "\n",
    "while n<maxn:\n",
    "    num = (-1)**n/((2*n)+1)\n",
    "    tot = tot+num\n",
    "    n+=1\n",
    "print (f\"The partial sum {n} is {tot}.\")"
   ]
  },
  {
   "cell_type": "markdown",
   "metadata": {},
   "source": [
    "---\n",
    "\n",
    "pr0fez Giang\n",
    "\n",
    "[LinkedIn][linkedIn_pr0fez]\n",
    "\n",
    "[GitHub portfolio][github_portfolio]\n",
    "\n",
    "[linkedIn_pr0fez]: https://www.linkedin.com/in/pr0fezgiang/\n",
    "[github_portfolio]: https://github.com/pr0fez/Portfolio-pr0fez-Giang\n",
    "\n",
    "---"
   ]
  }
 ],
 "metadata": {
  "kernelspec": {
   "display_name": "Python 3",
   "language": "python",
   "name": "python3"
  },
  "language_info": {
   "codemirror_mode": {
    "name": "ipython",
    "version": 3
   },
   "file_extension": ".py",
   "mimetype": "text/x-python",
   "name": "python",
   "nbconvert_exporter": "python",
   "pygments_lexer": "ipython3",
   "version": "3.13.0"
  },
  "orig_nbformat": 4
 },
 "nbformat": 4,
 "nbformat_minor": 2
}
